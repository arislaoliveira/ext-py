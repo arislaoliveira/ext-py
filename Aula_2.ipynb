{
  "nbformat": 4,
  "nbformat_minor": 0,
  "metadata": {
    "colab": {
      "provenance": [],
      "authorship_tag": "ABX9TyMwlD8/EFgIqjfvRQdAWeeg",
      "include_colab_link": true
    },
    "kernelspec": {
      "name": "python3",
      "display_name": "Python 3"
    },
    "language_info": {
      "name": "python"
    }
  },
  "cells": [
    {
      "cell_type": "markdown",
      "metadata": {
        "id": "view-in-github",
        "colab_type": "text"
      },
      "source": [
        "<a href=\"https://colab.research.google.com/github/oliveirarisla/basicopy/blob/main/Aula_2.ipynb\" target=\"_parent\"><img src=\"https://colab.research.google.com/assets/colab-badge.svg\" alt=\"Open In Colab\"/></a>"
      ]
    },
    {
      "cell_type": "markdown",
      "source": [
        "# *2ª aula*\n",
        "\n",
        "29/03/2023"
      ],
      "metadata": {
        "id": "870KheAhGkRe"
      }
    },
    {
      "cell_type": "markdown",
      "source": [
        "## 1.Operadores Relacionais\n",
        "\n",
        "Diferente dos operadores aritméticos, os operadores lógicos retornam True 😀 ou False 😠 como resposta.\n",
        "Operadores Relacionais\n",
        "\n",
        "São aqueles que fazem a comparação entre dois ou mais valores.\n"
      ],
      "metadata": {
        "id": "4mqN-AvfU5a5"
      }
    },
    {
      "cell_type": "markdown",
      "source": [
        "### 1. Operador de igualdade (==)"
      ],
      "metadata": {
        "id": "a02dkN-WU84S"
      }
    },
    {
      "cell_type": "code",
      "source": [
        "#colocar 7==7, verificar a resposta da execução \n",
        "print(7==7)\n",
        "\n",
        "#colocar 7==5\n",
        "print(7==5)"
      ],
      "metadata": {
        "colab": {
          "base_uri": "https://localhost:8080/"
        },
        "id": "0VIzFVh6HGKd",
        "outputId": "f18aff3e-56db-4d91-fd52-6091d9c3346a"
      },
      "execution_count": null,
      "outputs": [
        {
          "output_type": "stream",
          "name": "stdout",
          "text": [
            "True\n",
            "False\n"
          ]
        }
      ]
    },
    {
      "cell_type": "markdown",
      "source": [
        "### 2. Operadores menor que (<) e maior que (>)"
      ],
      "metadata": {
        "id": "UYOe_tbhVUiJ"
      }
    },
    {
      "cell_type": "code",
      "source": [
        "print(7<7) #False\n",
        "\n",
        "print(7<10) #True\n",
        "\n",
        "print(7>7) #False\n",
        "\n",
        "print(7>5) #true"
      ],
      "metadata": {
        "colab": {
          "base_uri": "https://localhost:8080/"
        },
        "id": "AsFhy-UMVa0I",
        "outputId": "34af36c5-32d2-4df4-bd78-980537bcffd9"
      },
      "execution_count": null,
      "outputs": [
        {
          "output_type": "stream",
          "name": "stdout",
          "text": [
            "False\n",
            "True\n",
            "False\n",
            "True\n"
          ]
        }
      ]
    },
    {
      "cell_type": "markdown",
      "source": [
        "### 3. Menor ou igual (<=) e maior ou igual que (>=)"
      ],
      "metadata": {
        "id": "Uc3uWhpgVrPX"
      }
    },
    {
      "cell_type": "code",
      "source": [
        "print(7<=7)\n",
        "\n",
        "print(7<=10)\n",
        "\n",
        "print(7>=7)\n",
        "\n",
        "print(7>=5)"
      ],
      "metadata": {
        "colab": {
          "base_uri": "https://localhost:8080/"
        },
        "id": "QlR_EicbVyrS",
        "outputId": "ff202f2c-32e4-481f-8db5-e6d4df727943"
      },
      "execution_count": null,
      "outputs": [
        {
          "output_type": "stream",
          "name": "stdout",
          "text": [
            "True\n",
            "True\n",
            "True\n",
            "True\n"
          ]
        }
      ]
    },
    {
      "cell_type": "markdown",
      "source": [
        "### 4. Não igual (!=)"
      ],
      "metadata": {
        "id": "dA-icu0HWBL0"
      }
    },
    {
      "cell_type": "code",
      "source": [
        "print(7!=7)\n",
        "\n",
        "print(7!=5)"
      ],
      "metadata": {
        "colab": {
          "base_uri": "https://localhost:8080/"
        },
        "id": "dSnpd8NaWIH1",
        "outputId": "89ed53b8-5fb3-4711-d0c0-cda478df7817"
      },
      "execution_count": null,
      "outputs": [
        {
          "output_type": "stream",
          "name": "stdout",
          "text": [
            "False\n",
            "True\n"
          ]
        }
      ]
    },
    {
      "cell_type": "markdown",
      "source": [
        "## 2.Tabelas Verdade\n",
        "\n",
        "São tabelas que mostram algumas situações de entrada e suas saídas"
      ],
      "metadata": {
        "id": "IjZHe0_hWXpc"
      }
    },
    {
      "cell_type": "markdown",
      "source": [
        "### 1. Tabela do E (AND)\n",
        "\n",
        "O operador AND deve ser usado quando temos 2 ou mais condições que devem ser verdadeiras para o programa executar a ação desejada\n"
      ],
      "metadata": {
        "id": "0BH13ZMmW9qm"
      }
    },
    {
      "cell_type": "code",
      "source": [
        "print(\"|   A\\t|   B\\t| SAÍDA |\") #\\t - tab\n",
        "print(\"|\",False,\"|\",False,\"|\", False and False,\"|\")\n",
        "print(\"|\",True,\"\\t|\",False,\"|\",True and False,\"|\")\n",
        "print(\"|\",False,\"|\",True,\"\\t|\",False and True,\"|\")\n",
        "print(\"|\",True,\"\\t|\",True,\"\\t|\",True and True,\"\\t|\")"
      ],
      "metadata": {
        "colab": {
          "base_uri": "https://localhost:8080/"
        },
        "id": "oK5boMg4W9EO",
        "outputId": "81682005-198f-4780-ec11-807f76cedf9b"
      },
      "execution_count": null,
      "outputs": [
        {
          "output_type": "stream",
          "name": "stdout",
          "text": [
            "|   A\t|   B\t| SAÍDA |\n",
            "| False | False | False |\n",
            "| True \t| False | False |\n",
            "| False | True \t| False |\n",
            "| True \t| True \t| True \t|\n"
          ]
        }
      ]
    },
    {
      "cell_type": "code",
      "source": [
        "# EXEMPLO: Verificar se uma idade é maior do que a 17 E menor do que 71.\n",
        "\n",
        "idade = int(input(\"Idade: \"))\n",
        "print(idade > 17 and idade < 71)"
      ],
      "metadata": {
        "colab": {
          "base_uri": "https://localhost:8080/"
        },
        "id": "Yr2GzSVlZtgP",
        "outputId": "22fe8763-b235-4f76-eb30-96458b82ee4f"
      },
      "execution_count": null,
      "outputs": [
        {
          "output_type": "stream",
          "name": "stdout",
          "text": [
            "Idade: 21\n",
            "True\n"
          ]
        }
      ]
    },
    {
      "cell_type": "markdown",
      "source": [
        "### 2. Tabela do OU (OR)\n",
        "\n",
        "O operador OR deve ser usado quando, pelo menos, 1 das condições for verdadeira para realizar uma ação desejada\n"
      ],
      "metadata": {
        "id": "DcSqOP-DZo3x"
      }
    },
    {
      "cell_type": "code",
      "source": [
        "print(\"|   A\\t|   B\\t| SAÍDA |\")\n",
        "print(\"|\",False,\"|\",False,\"|\",False or False,\"|\")\n",
        "print(\"|\",True,\"\\t|\",False,\"|\",True or False,\" |\")\n",
        "print(\"|\",False,\"|\",True,\"\\t|\",False or True,\" |\")\n",
        "print(\"|\",True,\"\\t|\",True,\"\\t|\",True or True,\" |\")"
      ],
      "metadata": {
        "colab": {
          "base_uri": "https://localhost:8080/"
        },
        "id": "QyHO5eBxaHuQ",
        "outputId": "ae97b6b2-f43e-4875-a82e-f293a5788d34"
      },
      "execution_count": null,
      "outputs": [
        {
          "output_type": "stream",
          "name": "stdout",
          "text": [
            "|   A\t|   B\t| SAÍDA |\n",
            "| False | False | False |\n",
            "| True \t| False | True  |\n",
            "| False | True \t| True  |\n",
            "| True \t| True \t| True  |\n"
          ]
        }
      ]
    },
    {
      "cell_type": "code",
      "source": [
        "# EXEMPLO: Verificar se uma idade é menor do que a 18 OU maior do que 70.\n",
        "\n",
        "idade = int(input(\"Idade: \"))\n",
        "print(idade < 18 or idade > 70)    \n"
      ],
      "metadata": {
        "colab": {
          "base_uri": "https://localhost:8080/"
        },
        "id": "gujQWwoWZ3ML",
        "outputId": "75f4b690-7aaa-4826-f08b-24532c3918cf"
      },
      "execution_count": null,
      "outputs": [
        {
          "output_type": "stream",
          "name": "stdout",
          "text": [
            "Idade: 16\n",
            "True\n"
          ]
        }
      ]
    },
    {
      "cell_type": "markdown",
      "source": [
        "###3. Tabela do XOR (^)"
      ],
      "metadata": {
        "id": "2NSZAaZRbHl2"
      }
    },
    {
      "cell_type": "code",
      "source": [
        "print(\"|   A\\t|   B\\t| SAÍDA |\")\n",
        "print(\"|\",False,\"|\",False,\"|\",False ^ False,\"|\")\n",
        "print(\"|\",True,\"\\t|\",False,\"|\",True ^ False,\"\\t|\")\n",
        "print(\"|\",False,\"|\",True,\"\\t|\",False ^ True,\"\\t|\")\n",
        "print(\"|\",True,\"\\t|\",True,\"\\t|\",True ^ True,\"|\")\n"
      ],
      "metadata": {
        "id": "orYy2cdsbMeC"
      },
      "execution_count": null,
      "outputs": []
    },
    {
      "cell_type": "code",
      "source": [
        "# Reprodução de porcos\n",
        "# Coloque 0 para leitão e 1 para leitoa em uma lista"
      ],
      "metadata": {
        "id": "ZqhTaj0DbPLK"
      },
      "execution_count": null,
      "outputs": []
    },
    {
      "cell_type": "markdown",
      "source": [
        "### 4. Tabela de Negação (not)"
      ],
      "metadata": {
        "id": "KQu0EWrdb3iV"
      }
    },
    {
      "cell_type": "code",
      "source": [
        "print(\"|   A\\t| Não A |\")\n",
        "print(\"|\",False,\"|\",not False,\"\\t|\")\n",
        "print(\"|\",True,\"\\t|\",not True,\"|\")"
      ],
      "metadata": {
        "colab": {
          "base_uri": "https://localhost:8080/"
        },
        "id": "SYsb-9i_b67c",
        "outputId": "ee15b23b-a209-4d86-ad70-0dc312f2c2b3"
      },
      "execution_count": null,
      "outputs": [
        {
          "output_type": "stream",
          "name": "stdout",
          "text": [
            "|   A\t| Não A |\n",
            "| False | True \t|\n",
            "| True \t| False |\n"
          ]
        }
      ]
    },
    {
      "cell_type": "markdown",
      "source": [
        "## 3 - Condicionais\n",
        "\n"
      ],
      "metadata": {
        "id": "98Wu-KObcD-n"
      }
    },
    {
      "cell_type": "markdown",
      "source": [
        "### IF"
      ],
      "metadata": {
        "id": "EDW88wiRcPmI"
      }
    },
    {
      "cell_type": "code",
      "source": [
        "n = 2\n",
        "if n == 2: #se n é igual a 2\n",
        "    print(\"{} igual a 2\".format(n)) #4 espaços\n",
        "print(\"eu\")"
      ],
      "metadata": {
        "colab": {
          "base_uri": "https://localhost:8080/"
        },
        "id": "G4c27VWVcDtW",
        "outputId": "705780db-7ffd-4b59-e1e9-f34477c8ff05"
      },
      "execution_count": null,
      "outputs": [
        {
          "output_type": "stream",
          "name": "stdout",
          "text": [
            "2 igual a 2\n",
            "eu\n"
          ]
        }
      ]
    },
    {
      "cell_type": "markdown",
      "source": [
        "### ELSE"
      ],
      "metadata": {
        "id": "-NffF9tKcvWG"
      }
    },
    {
      "cell_type": "code",
      "source": [
        "n = 3\n",
        "if n == 2:\n",
        "    print(\"{} igual a 2\".format(n)) #caso false essa linha é pulada, se true somente essa linha é printada\n",
        "else:\n",
        "    print(\"{} diferente de 2\".format(n))"
      ],
      "metadata": {
        "colab": {
          "base_uri": "https://localhost:8080/"
        },
        "id": "tm-uywSTcw55",
        "outputId": "90302af3-d0ab-4443-a079-4252e9c10ccd"
      },
      "execution_count": null,
      "outputs": [
        {
          "output_type": "stream",
          "name": "stdout",
          "text": [
            "3 diferente de 2\n"
          ]
        }
      ]
    },
    {
      "cell_type": "markdown",
      "source": [
        "### ELIF"
      ],
      "metadata": {
        "id": "UZCc9YEbfHNG"
      }
    },
    {
      "cell_type": "code",
      "source": [
        "n = 4\n",
        "if n == 2:\n",
        "    print(\"{} é igual a 2\".format(n))\n",
        "elif n == 3:\n",
        "    print(\"{} é igual a 3\".format(n))\n",
        "else:\n",
        "    print(\"{} é diferente de 2 e de 3\".format(n))"
      ],
      "metadata": {
        "colab": {
          "base_uri": "https://localhost:8080/"
        },
        "id": "ud0dM04mfI7_",
        "outputId": "f3bdd6c0-f949-4177-8fb7-42a00dba7547"
      },
      "execution_count": null,
      "outputs": [
        {
          "output_type": "stream",
          "name": "stdout",
          "text": [
            "4 é diferente de 2 e de 3\n"
          ]
        }
      ]
    },
    {
      "cell_type": "markdown",
      "source": [
        "## 4 - Exercícios"
      ],
      "metadata": {
        "id": "U-GYP13tgeAZ"
      }
    },
    {
      "cell_type": "markdown",
      "source": [
        "### 1 - Qual o maior.\n",
        "\n",
        "Escreva um programa que recebe 2 valores e devolve o maior entre eles.\n"
      ],
      "metadata": {
        "id": "mIBIjSQsgfVU"
      }
    },
    {
      "cell_type": "code",
      "source": [
        "# Declaração da variável 1\n",
        "num1 = int(input('Digite um número: '))\n",
        "\n",
        "# Declaração da variável 2\n",
        "num2 = int(input('Digite outro número: '))\n",
        "\n",
        "# Imprimir na tela mensagem: \"O X é maior do que o Y\"\n",
        "if num1 > num2:\n",
        "    print(\"{} é maior que {}\".format(num1, num2))\n",
        "elif num1 < num2:\n",
        "    print(\"{} é maior que {}\".format(num2, num1))\n",
        "else:\n",
        "    print(\"{} é igual a {}\".format(num1, num2))"
      ],
      "metadata": {
        "id": "p3Sjh6uJhf5g"
      },
      "execution_count": null,
      "outputs": []
    },
    {
      "cell_type": "markdown",
      "source": [
        "\n",
        "### 2 - Calculadora de preço da laranja.\n",
        "\n",
        "Cada laranja custa 0,30 mas  quando comprada acima de uma duzia seu valor cai para R$0,25 cada"
      ],
      "metadata": {
        "id": "1iQLdYbHgi__"
      }
    },
    {
      "cell_type": "code",
      "source": [
        "# Declarar a entrada da quantidade de laranjas a ser comprada\n",
        "qnt = int(input('Quantas laranjas você deseja? '))\n",
        "un = qnt * 0.3\n",
        "duzia = qnt * 0.25\n",
        "# Declaração de if\n",
        "if qnt < 12:\n",
        "    print(\"{} laranjas por R$0,30/unidade fica R${:.2f}\".format(qnt, un))\n",
        "\n",
        "elif qnt >= 12:\n",
        "    print(\"{} laranjas por R$0,25/unidade fica R${:.2f}\".format(qnt, duzia))\n",
        "\n",
        "\n",
        "# Declaração else\n",
        "\n",
        "# Imprimir na tela a mensagem: \"x laranjas por Y reais totaliza: R$ Z\""
      ],
      "metadata": {
        "id": "e0odOwhEhcU7",
        "colab": {
          "base_uri": "https://localhost:8080/"
        },
        "outputId": "b6a26b45-5f07-472f-c61c-04ba861a4248"
      },
      "execution_count": 4,
      "outputs": [
        {
          "output_type": "stream",
          "name": "stdout",
          "text": [
            "Quantas laranjas você deseja? 15\n",
            "15 laranjas por R$0,25/unidade fica R$3.75\n"
          ]
        }
      ]
    },
    {
      "cell_type": "markdown",
      "source": [
        "\n",
        "###3 - Caluladora de Peso Ideal\n",
        "\n",
        "Fazer uma calculadora em que o usuário digita Altura em metros e Peso em quilos e se é do sexo biológico Masculino ou Feminino. O programa devolve ao usuário a informação qual seu peso ideal e quando precisa emagrecer para chegar lá. Ao final, o programa deve trazer uma frase motivadora para aqueles que estão acima do peso, frase parabenizando os que estão no peso ideal e uma outra frase de alerta aos que estão abaixo do peso. *Fórmulas*\n",
        "\n",
        "    >Masculino: (72.7 * Altura) - 50\n",
        "    >Feminino: (62.1 * Altura) - 44.7\n",
        "\n"
      ],
      "metadata": {
        "id": "jhsnFunjg2zn"
      }
    },
    {
      "cell_type": "code",
      "source": [
        "# Declarar a entrada da Altura\n",
        "print(\"Olá! \\nHoje vou ajudar a calcular seu peso ideal. Por gentileza, utilize . para casas decimais.\")\n",
        "h = float(input('Informe sua altura em metros: '))\n",
        "\n",
        "# Declarar a entrada do Peso\n",
        "w = float(input('Informe seu peso em quilos: '))\n",
        "\n",
        "# Declarar a entrada do Sexo Biológico\n",
        "g = (input('Informe seu gênero biológico: \\n[1]Feminino [2]Masculino '))\n",
        "\n",
        "# Declaração de if para calcular peso ideal\n",
        "if (g == '1'):\n",
        "    ok = (62.1 * h) - 44.7\n",
        "\n",
        "# Declaração de elif para calcular peso ideal\n",
        "elif (g == '2'):\n",
        "    ok = (72.7 * h) - 50\n",
        "\n",
        "# Declaração else\n",
        "else:\n",
        "    print('Por gentileza, informe o gênero corretamente')\n",
        "   \n",
        "# Calcular diferença entre peso ideal e peso atual\n",
        "lose = w - ok \n",
        "gain = ok - w\n",
        "\n",
        "# Declaração de if para acima do peso - A devolutiva para o usuário vem dentro do if\n",
        "if w > ok:\n",
        "    print(\"Infelizmente você está acima do peso :/ \\nVocê precisa emagrecer {:.2f} kg para alcançar seu peso ideal de {:.2f} kg.\\nLembre-se que a consistência é a chave para o sucesso. Mantenha-se focado em seus objetivos!\".format(lose, ok))\n",
        "\n",
        "# Declaração de elif para abaixo do peso - A devolutiva para o usuário vem dentro do elif\n",
        "elif w < ok:\n",
        "    print(\"Infelizmente você está abaixo do peso :/ \\nVocê precisa ganhar {:.2f} kg para alcançar seu peso ideal de {:.2f} kg. \\nLemmbre-se que a consistência é a chave para o sucesso. Mantenha-se focado em seus objetivos!\".format(gain, ok))\n",
        "\n",
        "# Declaração de else - A devolutiva para o usuário vem dentro do else \n",
        "else:\n",
        "    print(\"Parabéns! Você está no seu peso ideal :)\\nSeus hábitos saudáveis ​​são um investimento em sua saúde e bem-estar a longo prazo. Continue fazendo escolhas saudáveis ​​e você colherá os benefícios!\")\n"
      ],
      "metadata": {
        "id": "WrfQl86dhXat",
        "colab": {
          "base_uri": "https://localhost:8080/"
        },
        "outputId": "6d1d4a57-eb45-4bd4-9eb5-20381e3e3e16"
      },
      "execution_count": null,
      "outputs": [
        {
          "output_type": "stream",
          "name": "stdout",
          "text": [
            "Olá! \n",
            "Hoje vou ajudar a calcular seu peso ideal. Por gentileza, utilize . para casas decimais.\n",
            "Informe sua altura em metros: 1.58\n",
            "Informe seu peso em quilos: 58\n",
            "Informe seu gênero biológico: \n",
            "[1]Feminino [2]Masculino 1\n",
            "Infelizmente você está acima do peso :/ \n",
            "Você precisa emagrecer 4.58 kg para alcançar seu peso ideal de 53.42 kg.\n",
            "Lembre-se que a consistência é a chave para o sucesso. Mantenha-se focado em seus objetivos!\n"
          ]
        }
      ]
    },
    {
      "cell_type": "markdown",
      "source": [
        "### 4 - É triangulo ou Não é triângulo?\n",
        "\n",
        "Para determinar se 3 segmentos de reta formam um triângulo, podemos fazer a verificação se a soma dos dois menores segmentos é maior do que o segmento maior.\n",
        "\n",
        "\n",
        "\n",
        "---\n",
        "\n",
        "Segmentos: 2, 3 e 4\n",
        "\n",
        "Soma dos dois menores: 2 + 3 = 5\n",
        "\n",
        "Verificação: 5 > 4\n",
        "\n",
        "Conclusão:Estes segmentos formam um triângulo\n",
        "\n",
        "\n",
        "\n",
        "---\n",
        "\n",
        "\n"
      ],
      "metadata": {
        "id": "Slo7xkn2g9d7"
      }
    },
    {
      "cell_type": "code",
      "source": [
        "# Declaração do primeiro segmento\n",
        "\n",
        "# Declaração do segundo segmento\n",
        "\n",
        "# Declaração do terceiro segmento\n",
        "\n",
        "# Neste if, usar AND para avaliaar se o 1º segmento é o menor\n",
        "\n",
        "# Neste elif, usar AND para avaliaar se o 2º segmento é o maior\n",
        "\n",
        "# Neste elif, usar AND para avaliar se o 3º segmento é o maior\n",
        "\n",
        "# Else para possíveis erros de digitação\n",
        "\n",
        "# Verificação se é triângulo e informar ao usuário."
      ],
      "metadata": {
        "id": "425PAfkphT2n"
      },
      "execution_count": null,
      "outputs": []
    },
    {
      "cell_type": "markdown",
      "source": [
        "### Desafio\n",
        "\n",
        "Um posto de gasolina está vendendo combustíveis com a seguinte tabela de descontos: Gasolina:\n",
        "\n",
        "    Até 20 litros: desconto de 4% por litro\n",
        "    Acima de 20 litros: desconto de 6% por litro\n",
        "\n",
        "Álcool:\n",
        "\n",
        "    Até 20 litros: desconto de 3% por litro\n",
        "    Acima de 20 litros: desconto de 5% por litro\n",
        "\n",
        "Escreva um programa que leia o tipo de combustível (A - Álcool e G - Gasolina), calcule e imprima o valor a ser pago pelo cliente.\n",
        "\n",
        "\n",
        "\n",
        "---\n",
        "\n",
        "PARA TORNAR O DESAFIO INTERESSANTE, VAMOS FAZER O PROGRAMA CRIAR UM NÚMERO ALEATÓRIO PARA O ABASTECIMENTO. ESTE NÚMERO DEVERÁ SER ENTRE 1 E 52\n",
        "\n",
        "\n",
        "\n",
        "---\n",
        "\n"
      ],
      "metadata": {
        "id": "Pd51tFnshIkH"
      }
    },
    {
      "cell_type": "code",
      "source": [
        "from random import randint\n",
        "gas = input('Tipo de combustível: \\n[G]Gasolina [A]Álcool ')\n",
        "vol = randint(1,52)\n",
        "\n",
        "g = 5.50\n",
        "al = 4.50\n",
        "\n",
        "if (gas == 'G'):\n",
        "    if vol < 20:\n",
        "        print(\"Você abasteceu {} litros, o valor total com 4% de desconto é R${}\".format(vol, vol * 0.96 * g))\n",
        "    elif vol > 20:\n",
        "        print(\"Você abasteceu {} litros, o valor total com 6% de desconto é R${}\".format(vol, vol * 0.94 * g))\n",
        "elif (gas == 'A'):\n",
        "    if vol < 20:\n",
        "        print(\"Você abasteceu {} litros, o valor total com 3% de desconto é R${}\".format(vol, vol * 0.97 * al))\n",
        "    elif vol > 20:\n",
        "        print(\"Você abasteceu {} litros, o valor total com 5% de desconto é R${}\".format(vol, vol * 0.95 * al))"
      ],
      "metadata": {
        "id": "FwpVqJJTCh8W"
      },
      "execution_count": null,
      "outputs": []
    }
  ]
}