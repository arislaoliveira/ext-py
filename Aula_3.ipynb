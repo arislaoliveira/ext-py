{
  "nbformat": 4,
  "nbformat_minor": 0,
  "metadata": {
    "colab": {
      "provenance": [],
      "authorship_tag": "ABX9TyOl2RQPjstwT4F+H7lCEyLL",
      "include_colab_link": true
    },
    "kernelspec": {
      "name": "python3",
      "display_name": "Python 3"
    },
    "language_info": {
      "name": "python"
    }
  },
  "cells": [
    {
      "cell_type": "markdown",
      "metadata": {
        "id": "view-in-github",
        "colab_type": "text"
      },
      "source": [
        "<a href=\"https://colab.research.google.com/github/oliveirarisla/basicopy/blob/main/Aula_3.ipynb\" target=\"_parent\"><img src=\"https://colab.research.google.com/assets/colab-badge.svg\" alt=\"Open In Colab\"/></a>"
      ]
    },
    {
      "cell_type": "markdown",
      "source": [
        "### 2. Sabendo que a = 3, b = 7 e c = 4, informe se as expressões abaixo são verdadeiras ou falsas:\n",
        "\n",
        ">a. (a + c) > b\n",
        "\n",
        ">b. b > = (a + 2)\n",
        "\n",
        ">c. c == (b – a)\n",
        "\n",
        ">d. (b + a) < = c\n",
        "\n",
        ">**e**. (c + a) > b\n"
      ],
      "metadata": {
        "id": "Xc_Il3_0gAuf"
      }
    },
    {
      "cell_type": "code",
      "execution_count": 11,
      "metadata": {
        "colab": {
          "base_uri": "https://localhost:8080/"
        },
        "id": "wtT-2hG1f41v",
        "outputId": "4218ccba-5de0-463c-9bf2-cf8f83efb8d5"
      },
      "outputs": [
        {
          "output_type": "stream",
          "name": "stdout",
          "text": [
            "False\n",
            "True\n",
            "True\n",
            "False\n",
            "False\n"
          ]
        }
      ],
      "source": [
        "a = 3\n",
        "b = 7\n",
        "c = 4\n",
        "\n",
        "print((a+c)>b)\n",
        "# false\n",
        "\n",
        "print(b>=(a+2))\n",
        "#true\n",
        "\n",
        "print(c==(b-a))\n",
        "#true\n",
        "\n",
        "print((b+a)<=c)\n",
        "#false\n",
        "\n",
        "print((c+a)>b)\n",
        "#false"
      ]
    },
    {
      "cell_type": "markdown",
      "source": [
        "### 3.    Sabendo que a = 5, b = 4, c = 3 e d = 6, informe se as expressões abaixo são verdadeiras ou falsas:\n",
        "\n",
        "> a. (a > c) AND (c <= d)\n",
        "\n",
        "> b. (a + b) > 10 OR (a + b) == (c + d)\n",
        "\n",
        "> c. (a >= c) AND (d >= c)\n"
      ],
      "metadata": {
        "id": "M9TgMflQgw3i"
      }
    },
    {
      "cell_type": "code",
      "source": [
        "a = 5\n",
        "b = 4\n",
        "c = 3 \n",
        "d = 6\n",
        "\n",
        "print((a>c) and (c<=d)) #True and True, True\n",
        "print((a+b>10) or ((a+b) == (c+d))) #False or True, True\n",
        "print((a>=c) and (d>=c)) #True and True, True"
      ],
      "metadata": {
        "colab": {
          "base_uri": "https://localhost:8080/"
        },
        "id": "zsZcqx_PhElA",
        "outputId": "ad8a9aa6-7171-4186-aa69-dda70e69691b"
      },
      "execution_count": 15,
      "outputs": [
        {
          "output_type": "stream",
          "name": "stdout",
          "text": [
            "True\n",
            "True\n",
            "True\n"
          ]
        }
      ]
    },
    {
      "cell_type": "markdown",
      "source": [
        "### Vamos a um caso mais real...\n",
        "Meta de vendas: 50.000 unidades.\n",
        "\n",
        "Usuário vai informar quantas unidades do produto foram vendidas.\n",
        "\n",
        "> Se a meta não for atingida, o programa deverá informar que a meta não foi atingida e ninguém recebe bonus.\n",
        "\n",
        "> Se a meta for atingida com menos de 500 unidades de diferença, o programa informa que a meta foi atingida e que os vendedores ganharão 5% de bonus.\n",
        "\n",
        "> Se a meta for ultrapassada em mais de 500 unidades, os vendedores receberão bonus de 15%.\n",
        "\n"
      ],
      "metadata": {
        "id": "5Wl1hrPMhE2N"
      }
    },
    {
      "cell_type": "code",
      "source": [
        "sale = int(input('Quantas unidades do produto de R$30,00 foram vendidas? '))\n",
        "goal = 50000\n",
        "price = 30\n",
        "pro = price * sale\n",
        "to_go = goal - sale\n",
        "exc = sale - goal\n",
        "\n",
        "if ((goal > sale) and (sale < 49500)):\n",
        "    print('A meta não foi atingida, para isso faltaram {} unidades.'.format(to_go))\n",
        "elif ((sale >= (goal - 500)) and (sale < goal)):  \n",
        "    print('A meta não foi atingida, para isso faltaram {} unidades. \\n Os vendedores receberão um bônus de R${:.2f}.'.format(to_go, sale * 1.05))\n",
        "elif ((sale >= (goal + 500)) and (sale > goal)):\n",
        "    print('A meta foi ultrapassada em {} unidades. \\nParabéns! Os vendedores receberão um bônus de R${:.2f}.'.format(exc, sale * 1.15))\n",
        "\n",
        "else:\n",
        "    print('Parabéns! A meta foi atingida!')\n"
      ],
      "metadata": {
        "colab": {
          "base_uri": "https://localhost:8080/"
        },
        "id": "_fNDeMU9hSPo",
        "outputId": "a0f524f3-24e9-4def-d7d0-d9d260c2e1ca"
      },
      "execution_count": 54,
      "outputs": [
        {
          "output_type": "stream",
          "name": "stdout",
          "text": [
            "Quantas unidades do produto de R$30,00 foram vendidas? 50500\n",
            "A meta foi ultrapassada em 500 unidades. \n",
            "Parabéns! Os vendedores receberão bônus de R$58075.00.\n"
          ]
        }
      ]
    },
    {
      "cell_type": "markdown",
      "source": [
        "### Uma loja possui 2 produtos: caixa de som e caneca.\n",
        "\n",
        "A caixa de som custa 150,00 reais e caneca custa 30,00 reais.\n",
        "\n",
        "Os custos fixos da loja são de 2100 reais.\n",
        "\n",
        "> Calcule o faturamento desta loja e se obteve lucro ou prejuízo. \n",
        "\n",
        ">O usuário irá informar quantas canecas e quantas caixas de som foram vendidas no período."
      ],
      "metadata": {
        "id": "Li9O0xRDhSo6"
      }
    },
    {
      "cell_type": "code",
      "source": [
        "som = int(input('Quantas caixas de som foram vendidas este mês? '))\n",
        "can = int(input('Quantas canecas foram vendidas este mês? '))\n",
        "\n",
        "#custo\n",
        "som_c = 45 * som\n",
        "can_c = 9 * can\n",
        "fixo = 2100\n",
        "#venda\n",
        "som_s = 150 * som\n",
        "can_s = 30 * can\n",
        "\n",
        "venda = som_s + can_s\n",
        "lucro = (som_s - som_c) + (can_s - can_c) - fixo\n",
        "\n",
        "if (lucro < fixo): \n",
        "    print('A loja faturou R${:.2f}, no entanto os custos fixos foram de R${:.2f} e os variavés de R${:.2f}, causando prejuízo de R${:.2f} este mês.'.format(venda, fixo, som_c + can_c, lucro * -1))\n",
        "else:\n",
        "    print('A loja faturou R${:.2f}, os custos fixos foram de R${:.2f} e os variáveis de R${:.2f}, gerando lucro de R${:.2f} este mês.'.format(venda, fixo, som_c + can_c, lucro))\n"
      ],
      "metadata": {
        "id": "yBk4dCeDu3uz"
      },
      "execution_count": null,
      "outputs": []
    }
  ]
}