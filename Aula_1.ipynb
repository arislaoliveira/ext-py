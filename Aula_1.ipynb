{
  "nbformat": 4,
  "nbformat_minor": 0,
  "metadata": {
    "colab": {
      "provenance": [],
      "authorship_tag": "ABX9TyMT+BqOYeqtNr4EwDL5Lpvr",
      "include_colab_link": true
    },
    "kernelspec": {
      "name": "python3",
      "display_name": "Python 3"
    },
    "language_info": {
      "name": "python"
    }
  },
  "cells": [
    {
      "cell_type": "markdown",
      "metadata": {
        "id": "view-in-github",
        "colab_type": "text"
      },
      "source": [
        "<a href=\"https://colab.research.google.com/github/oliveirarisla/basicopy/blob/main/Aula_1.ipynb\" target=\"_parent\"><img src=\"https://colab.research.google.com/assets/colab-badge.svg\" alt=\"Open In Colab\"/></a>"
      ]
    },
    {
      "cell_type": "markdown",
      "source": [
        "# **1ª Aula**\n",
        "*22/03/2023*"
      ],
      "metadata": {
        "id": "fIqR2ligORtf"
      }
    },
    {
      "cell_type": "markdown",
      "source": [
        "##*1.PRINT*"
      ],
      "metadata": {
        "id": "z1LLiFT9QnZT"
      }
    },
    {
      "cell_type": "code",
      "source": [
        "print(\"Hello World!\")\n",
        "print('Hello World!')"
      ],
      "metadata": {
        "colab": {
          "base_uri": "https://localhost:8080/"
        },
        "id": "6pFNBhbKQsMr",
        "outputId": "829076c1-dd95-4103-f9a2-d1bb8a30e553"
      },
      "execution_count": 2,
      "outputs": [
        {
          "output_type": "stream",
          "name": "stdout",
          "text": [
            "Hello World!\n",
            "Hello World!\n"
          ]
        }
      ]
    },
    {
      "cell_type": "markdown",
      "source": [
        "##*2.Concatenando informações*"
      ],
      "metadata": {
        "id": "QyV-uGwTSJgg"
      }
    },
    {
      "cell_type": "code",
      "source": [
        "#Texto e números\n",
        "print(\"Idade: \", 21)\n",
        "\n",
        "#Texto com booleano\n",
        "print(\"Cerveja:\", True)\n",
        "\n",
        "#Textos longos, com mais de uma linha\n",
        "print('''Cardápio:\n",
        "      1- Pizza\n",
        "      2- Hamburguer\n",
        "      3- Dogão\n",
        "      4- Refri ''')\n",
        "\n",
        "#Imprimir a mensagem\n",
        "# \"Professor, você é muito legal\"\n",
        "#Mas o muito deve ser repetido 25 vezes\n",
        "print(\"Prof, você é\",25*\"muito \",\"legal\")\n"
      ],
      "metadata": {
        "colab": {
          "base_uri": "https://localhost:8080/"
        },
        "id": "Yd5jeriMSQlg",
        "outputId": "627996aa-daa9-47f5-dcbd-0ccc250a2b9c"
      },
      "execution_count": 17,
      "outputs": [
        {
          "output_type": "stream",
          "name": "stdout",
          "text": [
            "Idade:  21\n",
            "Cerveja: True\n",
            "Cardápio:\n",
            "      1- Pizza\n",
            "      2- Hamburguer\n",
            "      3- Dogão\n",
            "      4- Refri \n",
            "Prof, você é muito muito muito muito muito muito muito muito muito muito muito muito muito muito muito muito muito muito muito muito muito muito muito muito muito  legal\n"
          ]
        }
      ]
    },
    {
      "cell_type": "markdown",
      "source": [
        "##*2.Tipos de variáveis*"
      ],
      "metadata": {
        "id": "Tvs4zzpQWfye"
      }
    },
    {
      "cell_type": "markdown",
      "source": [
        "### números inteiros"
      ],
      "metadata": {
        "id": "1Yinr6EZZiIb"
      }
    },
    {
      "cell_type": "code",
      "source": [
        "a = 2 #Inteiro\n",
        "print(a)\n",
        "a = 3.14 #Real\n",
        "print(a)\n",
        "a = 'Joao'\n",
        "print(a)\n",
        "a = list(range(5))\n",
        "print(a)\n",
        "a = {'Nome': \"Arisla\",\n",
        "     'Idade': 21,\n",
        "     'Estado Civil': 'Solteira'}\n",
        "print(a)"
      ],
      "metadata": {
        "colab": {
          "base_uri": "https://localhost:8080/"
        },
        "id": "uuA1lXFAWynh",
        "outputId": "a34bfc42-3512-457e-b0b9-659e3b1325f7"
      },
      "execution_count": 18,
      "outputs": [
        {
          "output_type": "stream",
          "name": "stdout",
          "text": [
            "2\n",
            "3.14\n",
            "Joao\n",
            "[0, 1, 2, 3, 4]\n",
            "{'Nome': 'Arisla', 'Idade': 21, 'Estado Civil': 'Solteira'}\n"
          ]
        }
      ]
    },
    {
      "cell_type": "code",
      "source": [
        "numero1 = 1\n",
        "numero2 = 2\n",
        "print(\"O número {} é menor do que o número {}\".format(numero1, numero2))\n"
      ],
      "metadata": {
        "colab": {
          "base_uri": "https://localhost:8080/"
        },
        "id": "LE2YRUNhXjnJ",
        "outputId": "7c93cec5-70bf-4aae-8d4f-1d44b9c63845"
      },
      "execution_count": 22,
      "outputs": [
        {
          "output_type": "stream",
          "name": "stdout",
          "text": [
            "O número 1 é menor do que o número 2\n"
          ]
        }
      ]
    },
    {
      "cell_type": "code",
      "source": [
        "ham = 25\n",
        "pizza = 50\n",
        "dog = 15\n",
        "refri = 10\n",
        "print('''Cardápio:\n",
        "      1- Pizza {}\n",
        "      2- Hamburguer {}\n",
        "      3- Dogão {}\n",
        "      4- Refri {} '''.format(ham,pizza,dog,refri))"
      ],
      "metadata": {
        "colab": {
          "base_uri": "https://localhost:8080/"
        },
        "outputId": "12150f8a-51be-46fa-f41a-c75f223e3ce2",
        "id": "BLBzUha6Z-S1"
      },
      "execution_count": 23,
      "outputs": [
        {
          "output_type": "stream",
          "name": "stdout",
          "text": [
            "Cardápio:\n",
            "      1- Pizza 25\n",
            "      2- Hamburguer 50\n",
            "      3- Dogão 15\n",
            "      4- Refri 10 \n"
          ]
        }
      ]
    },
    {
      "cell_type": "markdown",
      "source": [
        "### números reais"
      ],
      "metadata": {
        "id": "PKp0bOgsZZ6-"
      }
    },
    {
      "cell_type": "code",
      "source": [
        "#declarar a variavel real\n",
        "pi = 3.14\n",
        "print(pi)"
      ],
      "metadata": {
        "colab": {
          "base_uri": "https://localhost:8080/"
        },
        "id": "H9_zwDl-Zfba",
        "outputId": "6c3c6a34-8ee1-4dd5-fc30-993df923cdde"
      },
      "execution_count": 25,
      "outputs": [
        {
          "output_type": "stream",
          "name": "stdout",
          "text": [
            "3.14\n"
          ]
        }
      ]
    },
    {
      "cell_type": "markdown",
      "source": [
        "##*3.Texto e comentários*"
      ],
      "metadata": {
        "id": "Z9SEQzONeX0M"
      }
    },
    {
      "cell_type": "markdown",
      "source": [
        "###lista"
      ],
      "metadata": {
        "id": "iNAz4ZSHiKpg"
      }
    },
    {
      "cell_type": "code",
      "source": [
        "texto1 = 'O prof João é muito legal'\n",
        "texto2 = ' mesmo'\n",
        "print(texto1 + texto2)\n"
      ],
      "metadata": {
        "colab": {
          "base_uri": "https://localhost:8080/"
        },
        "id": "NyoCd-DbZ-BW",
        "outputId": "9d1a78a7-159d-4be9-a659-1b9b75f3bddc"
      },
      "execution_count": 28,
      "outputs": [
        {
          "output_type": "stream",
          "name": "stdout",
          "text": [
            "O prof João é muito legal mesmo\n"
          ]
        }
      ]
    },
    {
      "cell_type": "code",
      "source": [
        "#declarar a variável tipo lista\n",
        "produtos = ['PS5', 'PS4', 'PS3']\n",
        "precos = [4800, 2500, 1200]\n",
        "#imprimir\n",
        "print(\"{}: {}\".format(produtos, precos))"
      ],
      "metadata": {
        "colab": {
          "base_uri": "https://localhost:8080/"
        },
        "id": "Br0fDOE_evFY",
        "outputId": "b7bd3628-1b14-4519-beaa-f4d6d6e4ef53"
      },
      "execution_count": 30,
      "outputs": [
        {
          "output_type": "stream",
          "name": "stdout",
          "text": [
            "['PS5', 'PS4', 'PS3']: [4800, 2500, 1200]\n"
          ]
        }
      ]
    },
    {
      "cell_type": "markdown",
      "source": [
        "###dicionário"
      ],
      "metadata": {
        "id": "WTSUGG2Kh_zr"
      }
    },
    {
      "cell_type": "code",
      "source": [
        "dic = {\n",
        "    'Nome de usuário': ['Lia', 'Arisla', 'Tommy', 'Toddy'],\n",
        "    'login': 'lia.oliveira',\n",
        "    'senha': 1234,\n",
        "    'email': 'arisla@gmail.com'\n",
        "\n",
        "}\n",
        "\n",
        "print(dic)\n"
      ],
      "metadata": {
        "colab": {
          "base_uri": "https://localhost:8080/"
        },
        "id": "iT4N90IcfO74",
        "outputId": "8eb29be2-9cf0-45c9-c14d-895693c714b3"
      },
      "execution_count": 31,
      "outputs": [
        {
          "output_type": "stream",
          "name": "stdout",
          "text": [
            "{'Nome de usuário': ['Lia', 'Arisla', 'Tommy', 'Toddy'], 'login': 'lia.oliveira', 'senha': 1234, 'email': 'arisla@gmail.com'}\n"
          ]
        }
      ]
    },
    {
      "cell_type": "markdown",
      "source": [
        "###Input"
      ],
      "metadata": {
        "id": "RSXTb9gijUiq"
      }
    },
    {
      "cell_type": "code",
      "source": [
        "#nº inteiro\n",
        "print('Digite seu nome:')\n",
        "nome = input()\n",
        "#imprimir\n",
        "print(\"Olá {}\".format(nome))"
      ],
      "metadata": {
        "colab": {
          "base_uri": "https://localhost:8080/"
        },
        "id": "NKpc192gjWbp",
        "outputId": "905c156d-f196-435b-f93a-92a580b19f06"
      },
      "execution_count": 33,
      "outputs": [
        {
          "output_type": "stream",
          "name": "stdout",
          "text": [
            "Digite seu nome:\n",
            "Lia\n",
            "Olá Lia\n"
          ]
        }
      ]
    },
    {
      "cell_type": "markdown",
      "source": [
        "##*Operadores*"
      ],
      "metadata": {
        "id": "vmgTHM-NkhHk"
      }
    },
    {
      "cell_type": "markdown",
      "source": [
        "###adição"
      ],
      "metadata": {
        "id": "Y6MjyG9nklA8"
      }
    },
    {
      "cell_type": "code",
      "source": [
        "print(\"digite um número\")\n",
        "num1 = int(input())\n",
        "print(\"digite outro número\")\n",
        "num2 = int(input())\n",
        "soma = num1 + num2\n",
        "print(\"{} + {} = {}\".format(num1,num2,soma))"
      ],
      "metadata": {
        "colab": {
          "base_uri": "https://localhost:8080/"
        },
        "id": "wKUHa9XCkm5q",
        "outputId": "1cc7841a-7690-4071-f5df-3a659c32da8b"
      },
      "execution_count": 46,
      "outputs": [
        {
          "output_type": "stream",
          "name": "stdout",
          "text": [
            "digite um número\n",
            "9\n",
            "digite outro número\n",
            "5\n",
            "9 + 5 = 14\n"
          ]
        }
      ]
    },
    {
      "cell_type": "code",
      "source": [
        "# int - inteiro 2\n",
        "# float - real 2.0"
      ],
      "metadata": {
        "id": "YNkiwg74kfcA"
      },
      "execution_count": null,
      "outputs": []
    },
    {
      "cell_type": "markdown",
      "source": [
        "###subtração"
      ],
      "metadata": {
        "id": "cd0hVn7JmMw3"
      }
    },
    {
      "cell_type": "code",
      "source": [
        "sub = num1 - num2\n",
        "print(\"{} - {} = {}\".format(num1, num2, sub))"
      ],
      "metadata": {
        "colab": {
          "base_uri": "https://localhost:8080/"
        },
        "id": "zbeIhZNFmO-S",
        "outputId": "833ec293-11b6-43e0-c3fa-3ed3f6b83207"
      },
      "execution_count": 47,
      "outputs": [
        {
          "output_type": "stream",
          "name": "stdout",
          "text": [
            "9 - 5 = 4\n"
          ]
        }
      ]
    },
    {
      "cell_type": "markdown",
      "source": [
        "### multiplicação"
      ],
      "metadata": {
        "id": "hn1nA4L_moZG"
      }
    },
    {
      "cell_type": "code",
      "source": [
        "mult = num1 * num2\n",
        "print(\"{} * {} = {}\".format(num1, num2, mult))"
      ],
      "metadata": {
        "colab": {
          "base_uri": "https://localhost:8080/"
        },
        "id": "PzIuiJsamqhF",
        "outputId": "a4e649a2-e941-4abc-e5af-a3190d9339fd"
      },
      "execution_count": 48,
      "outputs": [
        {
          "output_type": "stream",
          "name": "stdout",
          "text": [
            "9 * 5 = 45\n"
          ]
        }
      ]
    },
    {
      "cell_type": "markdown",
      "source": [
        "###divisão"
      ],
      "metadata": {
        "id": "A_ccpGrynJAR"
      }
    },
    {
      "cell_type": "code",
      "source": [
        "div = num1 / num2\n",
        "print(\"{} / {} = {}\".format(num1, num2, div))\n"
      ],
      "metadata": {
        "colab": {
          "base_uri": "https://localhost:8080/"
        },
        "id": "coVw8dbTnKQ3",
        "outputId": "8085de85-330d-4365-b9c7-69b10a5f524c"
      },
      "execution_count": 49,
      "outputs": [
        {
          "output_type": "stream",
          "name": "stdout",
          "text": [
            "9 / 5 = 1.8\n"
          ]
        }
      ]
    },
    {
      "cell_type": "markdown",
      "source": [
        "###divisão inteira"
      ],
      "metadata": {
        "id": "S-VdI1hsnYZC"
      }
    },
    {
      "cell_type": "code",
      "source": [
        "div_int = num1 // num2\n",
        "print(\"{} // {} = {}\".format(num1, num2, div_int))"
      ],
      "metadata": {
        "colab": {
          "base_uri": "https://localhost:8080/"
        },
        "id": "N3eBpjLMnX2g",
        "outputId": "0e8496d6-780a-480e-edd0-bc18b3641e4a"
      },
      "execution_count": 50,
      "outputs": [
        {
          "output_type": "stream",
          "name": "stdout",
          "text": [
            "9 // 5 = 1\n"
          ]
        }
      ]
    },
    {
      "cell_type": "markdown",
      "source": [
        "###módulo - resto da divisão"
      ],
      "metadata": {
        "id": "MwgLgE6xoGpH"
      }
    },
    {
      "cell_type": "code",
      "source": [
        "mod = num1 % num2\n",
        "print(\"{} % {} = {}\".format(num1, num2, mod))"
      ],
      "metadata": {
        "colab": {
          "base_uri": "https://localhost:8080/"
        },
        "id": "nfcLnkDGoCjT",
        "outputId": "96b94fe4-cd55-45c0-b451-75442cf2eb4c"
      },
      "execution_count": 51,
      "outputs": [
        {
          "output_type": "stream",
          "name": "stdout",
          "text": [
            "9 % 5 = 4\n"
          ]
        }
      ]
    },
    {
      "cell_type": "markdown",
      "source": [
        "###exponenciação"
      ],
      "metadata": {
        "id": "FNF4Jb8Co2ph"
      }
    },
    {
      "cell_type": "code",
      "source": [
        "exp = num1 ** num2\n",
        "print(\"{} ** {} = {}\".format(num1, num2, exp))"
      ],
      "metadata": {
        "colab": {
          "base_uri": "https://localhost:8080/"
        },
        "id": "CImHXLwvo4Nv",
        "outputId": "4fc540e3-1d89-408c-e02f-ebb6461921d9"
      },
      "execution_count": 52,
      "outputs": [
        {
          "output_type": "stream",
          "name": "stdout",
          "text": [
            "9 ** 5 = 59049\n"
          ]
        }
      ]
    },
    {
      "cell_type": "markdown",
      "source": [
        "##*5. Exercicios*"
      ],
      "metadata": {
        "id": "HHCd1YB8n9nm"
      }
    },
    {
      "cell_type": "code",
      "source": [
        "\n",
        "Fazer programa que converte a velocidade de m/s para km/h. Dado: velocidade(m/s) = velocidade(km/h) * 3.6\n",
        "\n",
        "# Declaração da variável velocidade\n",
        "\n",
        "# Conversão da velocidade\n",
        "\n",
        "# Imprimir na tela a velocidade convertida   \n"
      ],
      "metadata": {
        "id": "LUUtrWyepejR"
      },
      "execution_count": null,
      "outputs": []
    },
    {
      "cell_type": "code",
      "source": [
        "Fazer um programa em que o usuário digita o raio de um circunferência e o programa imprime na tela o seu comprimento.\n",
        "\n",
        "# Importação da biblioteca math\n",
        "\n",
        "# Declaração da variável\n",
        "\n",
        "# Calcular o comprimento\n",
        "\n",
        "# Imprimir na tela\n"
      ],
      "metadata": {
        "id": "2LpqgeHipi1a"
      },
      "execution_count": null,
      "outputs": []
    },
    {
      "cell_type": "code",
      "source": [
        "Fazer um programa em qeue o usuário entra com um número e o programa imprime na tela seu antecessor e seu sucessor.\n",
        "\n",
        "# Declaração da variável\n",
        "\n",
        "# Calcular o antecessor\n",
        "\n",
        "# Calcular o sucessor\n",
        "\n",
        "# Imprimir na tela\n"
      ],
      "metadata": {
        "id": "Jq496AK1pmhE"
      },
      "execution_count": null,
      "outputs": []
    },
    {
      "cell_type": "code",
      "source": [
        " Fazer um programa em que o usuário entra com o ano de seu nascimento e o programa imprime na tela ssua idade.\n",
        "\n",
        "# Declaração da variável\n",
        "\n",
        "# Calcular aniversário\n",
        "\n",
        "# Imprimir na tela o aniversário"
      ],
      "metadata": {
        "id": "YPcOWEgzpnI-"
      },
      "execution_count": null,
      "outputs": []
    }
  ]
}