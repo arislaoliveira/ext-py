{
  "nbformat": 4,
  "nbformat_minor": 0,
  "metadata": {
    "colab": {
      "provenance": [],
      "authorship_tag": "ABX9TyN+PLgdEWa4FEtEDTtwZjfT",
      "include_colab_link": true
    },
    "kernelspec": {
      "name": "python3",
      "display_name": "Python 3"
    },
    "language_info": {
      "name": "python"
    }
  },
  "cells": [
    {
      "cell_type": "markdown",
      "metadata": {
        "id": "view-in-github",
        "colab_type": "text"
      },
      "source": [
        "<a href=\"https://colab.research.google.com/github/oliveirarisla/basicopy/blob/main/Aula_4.ipynb\" target=\"_parent\"><img src=\"https://colab.research.google.com/assets/colab-badge.svg\" alt=\"Open In Colab\"/></a>"
      ]
    },
    {
      "cell_type": "code",
      "execution_count": 4,
      "metadata": {
        "colab": {
          "base_uri": "https://localhost:8080/"
        },
        "id": "6xi02cN9Jxsx",
        "outputId": "b8069aad-42e2-472a-8612-cb5dd89b0529"
      },
      "outputs": [
        {
          "output_type": "stream",
          "name": "stdout",
          "text": [
            "0\n",
            "1\n",
            "2\n",
            "3\n",
            "4\n",
            "5\n",
            "6\n",
            "Agora eu continuo meu código principal\n"
          ]
        }
      ],
      "source": [
        "#Repetição\n",
        "\n",
        "i = 0\n",
        "\n",
        "while i <= 6:\n",
        "    print(i)\n",
        "    i +=1 #i = i + 6\n",
        "    \n",
        "print('Agora eu continuo meu código principal')"
      ]
    },
    {
      "cell_type": "code",
      "source": [
        "#break\n",
        "i = 0\n",
        "while True:\n",
        "    print('Estou preso, socorro... i = {}'.format(i))\n",
        "    i += 1\n",
        "\n",
        "    if i == 6:\n",
        "        break"
      ],
      "metadata": {
        "colab": {
          "base_uri": "https://localhost:8080/"
        },
        "id": "SKChnxZuNsxQ",
        "outputId": "f17afaa1-6a1c-4811-9b74-0634561a3a3f"
      },
      "execution_count": 7,
      "outputs": [
        {
          "output_type": "stream",
          "name": "stdout",
          "text": [
            "Estou preso, socorro... i = 0\n",
            "Estou preso, socorro... i = 1\n",
            "Estou preso, socorro... i = 2\n",
            "Estou preso, socorro... i = 3\n",
            "Estou preso, socorro... i = 4\n",
            "Estou preso, socorro... i = 5\n"
          ]
        }
      ]
    },
    {
      "cell_type": "code",
      "source": [
        "from re import T\n",
        "print('Digite -1 a qualquer momento para sair')\n",
        "ligado = True\n",
        "\n",
        "while ligado:\n",
        "    idade = int(input(\"Digite uma idade: \"))\n",
        "    if idade == -1:\n",
        "        ligado = False\n",
        "            #break"
      ],
      "metadata": {
        "colab": {
          "base_uri": "https://localhost:8080/"
        },
        "id": "s8M5LpPYOUXj",
        "outputId": "fcb557ae-95ca-45c2-a73f-8bffd86ee035"
      },
      "execution_count": 13,
      "outputs": [
        {
          "name": "stdout",
          "output_type": "stream",
          "text": [
            "Digite -1 a qualquer momento para sair\n",
            "Digite uma idade: 21\n",
            "Digite uma idade: -1\n"
          ]
        }
      ]
    },
    {
      "cell_type": "code",
      "source": [
        "#Contador - contar a quantidade de interações\n",
        "\n",
        "\n",
        "#Acumulador - acumular as informações introduzidas (usuário, banco de dados, lista) no programa"
      ],
      "metadata": {
        "id": "LQidfq8wPVP6"
      },
      "execution_count": null,
      "outputs": []
    },
    {
      "cell_type": "code",
      "source": [
        "# o usuário digita idades e ao final o programa traz a média das idades\n",
        "soma = 0\n",
        "contar = 0\n",
        "\n",
        "print(\"Digite -1 a qualquer momento para sair.\")\n",
        "\n",
        "while True:\n",
        "    idade = (input(\"Digite uma idade: \"))\n",
        "    if idade.isnumeric():\n",
        "        if (idade) == -1:\n",
        "            break\n",
        "        else:\n",
        "            soma += int(idade)\n",
        "            contar += 1\n",
        "\n",
        "    print(f'Soma = {soma}')\n",
        "    print(f'Contador = {contar}')\n",
        "    if contar == 0:\n",
        "        print('Não existe média')\n",
        "    else:\n",
        "        print(f'Média = {soma / contar}')"
      ],
      "metadata": {
        "colab": {
          "base_uri": "https://localhost:8080/"
        },
        "id": "-p-takeoRs5T",
        "outputId": "bd3a177d-a799-40d5-bc1c-e2a09e0a11d3"
      },
      "execution_count": null,
      "outputs": [
        {
          "output_type": "stream",
          "name": "stdout",
          "text": [
            "Digite -1 a qualquer momento para sair.\n"
          ]
        }
      ]
    },
    {
      "cell_type": "code",
      "source": [
        "#programa que verifica se o numero é inteiro e caso não seja pede pro usuário digitar novamente\n",
        "\n",
        "while True:\n",
        "    number = input('Digite um número inteiro: ')\n",
        "    if number.isdigit():\n",
        "        print('É válido')\n",
        "        break\n",
        "    else:\n",
        "        print(\"Não é válido\")"
      ],
      "metadata": {
        "id": "xYYbJzBaTrgG"
      },
      "execution_count": null,
      "outputs": []
    },
    {
      "cell_type": "code",
      "source": [
        "#Programa de verificação de usuário e senha, o usuário pode errar a senha 3 vezes até bloquear o acesso\n",
        "erros = 0\n",
        "\n",
        "while True: \n",
        "    usuario = input('Usuário: ')\n",
        "    senha = input('Senha: ')\n",
        "    if senha == 'Arisla1234':\n",
        "        print('Acesso liberado')\n",
        "        break\n",
        "    else:\n",
        "        contar +=1\n",
        "        if contar == 3: \n",
        "            print(\"Senha bloqueada\")\n"
      ],
      "metadata": {
        "id": "VqORaNEba1GZ"
      },
      "execution_count": null,
      "outputs": []
    }
  ]
}